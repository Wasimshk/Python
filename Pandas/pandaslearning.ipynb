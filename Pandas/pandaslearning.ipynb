{
 "cells": [
  {
   "cell_type": "code",
   "execution_count": 1,
   "id": "383ef970-c7c7-4414-b392-dfc0a413bbdf",
   "metadata": {},
   "outputs": [],
   "source": [
    "import numpy as np\n",
    "import pandas as pd"
   ]
  },
  {
   "cell_type": "code",
   "execution_count": 2,
   "id": "65d3c0f8-5752-49cc-a411-fdee3ae352ea",
   "metadata": {},
   "outputs": [],
   "source": [
    "dict1 = {\n",
    "    \"name\" : ['harry', 'rohan', 'skillf', 'Wasim'],\n",
    "    \"marks\": [25, 23, 19, 29],\n",
    "    \"City\": [\"Mumbai\", \"hyderabad\", \"scanf\", \"Pune\"]\n",
    "}"
   ]
  },
  {
   "cell_type": "code",
   "execution_count": 3,
   "id": "4974534d-8247-4992-a35d-863316399b5f",
   "metadata": {},
   "outputs": [],
   "source": [
    "df = pd.DataFrame(dict1)"
   ]
  },
  {
   "cell_type": "code",
   "execution_count": 4,
   "id": "edf05a6f-ac38-42b1-882d-a3b1e9ae4994",
   "metadata": {},
   "outputs": [
    {
     "data": {
      "text/html": [
       "<div>\n",
       "<style scoped>\n",
       "    .dataframe tbody tr th:only-of-type {\n",
       "        vertical-align: middle;\n",
       "    }\n",
       "\n",
       "    .dataframe tbody tr th {\n",
       "        vertical-align: top;\n",
       "    }\n",
       "\n",
       "    .dataframe thead th {\n",
       "        text-align: right;\n",
       "    }\n",
       "</style>\n",
       "<table border=\"1\" class=\"dataframe\">\n",
       "  <thead>\n",
       "    <tr style=\"text-align: right;\">\n",
       "      <th></th>\n",
       "      <th>name</th>\n",
       "      <th>marks</th>\n",
       "      <th>City</th>\n",
       "    </tr>\n",
       "  </thead>\n",
       "  <tbody>\n",
       "    <tr>\n",
       "      <th>0</th>\n",
       "      <td>harry</td>\n",
       "      <td>25</td>\n",
       "      <td>Mumbai</td>\n",
       "    </tr>\n",
       "    <tr>\n",
       "      <th>1</th>\n",
       "      <td>rohan</td>\n",
       "      <td>23</td>\n",
       "      <td>hyderabad</td>\n",
       "    </tr>\n",
       "    <tr>\n",
       "      <th>2</th>\n",
       "      <td>skillf</td>\n",
       "      <td>19</td>\n",
       "      <td>scanf</td>\n",
       "    </tr>\n",
       "    <tr>\n",
       "      <th>3</th>\n",
       "      <td>Wasim</td>\n",
       "      <td>29</td>\n",
       "      <td>Pune</td>\n",
       "    </tr>\n",
       "  </tbody>\n",
       "</table>\n",
       "</div>"
      ],
      "text/plain": [
       "     name  marks       City\n",
       "0   harry     25     Mumbai\n",
       "1   rohan     23  hyderabad\n",
       "2  skillf     19      scanf\n",
       "3   Wasim     29       Pune"
      ]
     },
     "execution_count": 4,
     "metadata": {},
     "output_type": "execute_result"
    }
   ],
   "source": [
    "df"
   ]
  },
  {
   "cell_type": "code",
   "execution_count": 5,
   "id": "aad9fbc7-b4ab-436d-b856-243f4a239f06",
   "metadata": {},
   "outputs": [],
   "source": [
    "df.to_csv(\"dataframecsv.csv\")"
   ]
  },
  {
   "cell_type": "code",
   "execution_count": 6,
   "id": "09d482a1-d19b-4b14-9800-14820f599b28",
   "metadata": {},
   "outputs": [],
   "source": [
    "df.to_csv(\"dataframecsv_noIndex.csv\", index=False)"
   ]
  },
  {
   "cell_type": "code",
   "execution_count": 7,
   "id": "c3cec7ac-19d9-4455-b614-2e5800e42746",
   "metadata": {},
   "outputs": [
    {
     "data": {
      "text/html": [
       "<div>\n",
       "<style scoped>\n",
       "    .dataframe tbody tr th:only-of-type {\n",
       "        vertical-align: middle;\n",
       "    }\n",
       "\n",
       "    .dataframe tbody tr th {\n",
       "        vertical-align: top;\n",
       "    }\n",
       "\n",
       "    .dataframe thead th {\n",
       "        text-align: right;\n",
       "    }\n",
       "</style>\n",
       "<table border=\"1\" class=\"dataframe\">\n",
       "  <thead>\n",
       "    <tr style=\"text-align: right;\">\n",
       "      <th></th>\n",
       "      <th>name</th>\n",
       "      <th>marks</th>\n",
       "      <th>City</th>\n",
       "    </tr>\n",
       "  </thead>\n",
       "  <tbody>\n",
       "    <tr>\n",
       "      <th>0</th>\n",
       "      <td>harry</td>\n",
       "      <td>25</td>\n",
       "      <td>Mumbai</td>\n",
       "    </tr>\n",
       "    <tr>\n",
       "      <th>1</th>\n",
       "      <td>rohan</td>\n",
       "      <td>23</td>\n",
       "      <td>hyderabad</td>\n",
       "    </tr>\n",
       "  </tbody>\n",
       "</table>\n",
       "</div>"
      ],
      "text/plain": [
       "    name  marks       City\n",
       "0  harry     25     Mumbai\n",
       "1  rohan     23  hyderabad"
      ]
     },
     "execution_count": 7,
     "metadata": {},
     "output_type": "execute_result"
    }
   ],
   "source": [
    "df.head(2)"
   ]
  },
  {
   "cell_type": "code",
   "execution_count": 8,
   "id": "958b372f-9eb9-43b7-8a83-d91ecc19f45b",
   "metadata": {},
   "outputs": [
    {
     "data": {
      "text/html": [
       "<div>\n",
       "<style scoped>\n",
       "    .dataframe tbody tr th:only-of-type {\n",
       "        vertical-align: middle;\n",
       "    }\n",
       "\n",
       "    .dataframe tbody tr th {\n",
       "        vertical-align: top;\n",
       "    }\n",
       "\n",
       "    .dataframe thead th {\n",
       "        text-align: right;\n",
       "    }\n",
       "</style>\n",
       "<table border=\"1\" class=\"dataframe\">\n",
       "  <thead>\n",
       "    <tr style=\"text-align: right;\">\n",
       "      <th></th>\n",
       "      <th>name</th>\n",
       "      <th>marks</th>\n",
       "      <th>City</th>\n",
       "    </tr>\n",
       "  </thead>\n",
       "  <tbody>\n",
       "    <tr>\n",
       "      <th>2</th>\n",
       "      <td>skillf</td>\n",
       "      <td>19</td>\n",
       "      <td>scanf</td>\n",
       "    </tr>\n",
       "    <tr>\n",
       "      <th>3</th>\n",
       "      <td>Wasim</td>\n",
       "      <td>29</td>\n",
       "      <td>Pune</td>\n",
       "    </tr>\n",
       "  </tbody>\n",
       "</table>\n",
       "</div>"
      ],
      "text/plain": [
       "     name  marks   City\n",
       "2  skillf     19  scanf\n",
       "3   Wasim     29   Pune"
      ]
     },
     "execution_count": 8,
     "metadata": {},
     "output_type": "execute_result"
    }
   ],
   "source": [
    "df.tail(2)"
   ]
  },
  {
   "cell_type": "code",
   "execution_count": 9,
   "id": "08f281b3-ed1a-4634-8b50-43c115786653",
   "metadata": {},
   "outputs": [
    {
     "data": {
      "text/html": [
       "<div>\n",
       "<style scoped>\n",
       "    .dataframe tbody tr th:only-of-type {\n",
       "        vertical-align: middle;\n",
       "    }\n",
       "\n",
       "    .dataframe tbody tr th {\n",
       "        vertical-align: top;\n",
       "    }\n",
       "\n",
       "    .dataframe thead th {\n",
       "        text-align: right;\n",
       "    }\n",
       "</style>\n",
       "<table border=\"1\" class=\"dataframe\">\n",
       "  <thead>\n",
       "    <tr style=\"text-align: right;\">\n",
       "      <th></th>\n",
       "      <th>marks</th>\n",
       "    </tr>\n",
       "  </thead>\n",
       "  <tbody>\n",
       "    <tr>\n",
       "      <th>count</th>\n",
       "      <td>4.000000</td>\n",
       "    </tr>\n",
       "    <tr>\n",
       "      <th>mean</th>\n",
       "      <td>24.000000</td>\n",
       "    </tr>\n",
       "    <tr>\n",
       "      <th>std</th>\n",
       "      <td>4.163332</td>\n",
       "    </tr>\n",
       "    <tr>\n",
       "      <th>min</th>\n",
       "      <td>19.000000</td>\n",
       "    </tr>\n",
       "    <tr>\n",
       "      <th>25%</th>\n",
       "      <td>22.000000</td>\n",
       "    </tr>\n",
       "    <tr>\n",
       "      <th>50%</th>\n",
       "      <td>24.000000</td>\n",
       "    </tr>\n",
       "    <tr>\n",
       "      <th>75%</th>\n",
       "      <td>26.000000</td>\n",
       "    </tr>\n",
       "    <tr>\n",
       "      <th>max</th>\n",
       "      <td>29.000000</td>\n",
       "    </tr>\n",
       "  </tbody>\n",
       "</table>\n",
       "</div>"
      ],
      "text/plain": [
       "           marks\n",
       "count   4.000000\n",
       "mean   24.000000\n",
       "std     4.163332\n",
       "min    19.000000\n",
       "25%    22.000000\n",
       "50%    24.000000\n",
       "75%    26.000000\n",
       "max    29.000000"
      ]
     },
     "execution_count": 9,
     "metadata": {},
     "output_type": "execute_result"
    }
   ],
   "source": [
    "df.describe()"
   ]
  },
  {
   "cell_type": "code",
   "execution_count": 10,
   "id": "93e47c74-52ea-427b-9b2c-72949d5fae53",
   "metadata": {},
   "outputs": [],
   "source": [
    "marks = pd.read_csv(\"marks.csv\")"
   ]
  },
  {
   "cell_type": "code",
   "execution_count": 11,
   "id": "10388096-1e93-4a77-b79f-ccb6d5f62cee",
   "metadata": {},
   "outputs": [
    {
     "data": {
      "text/html": [
       "<div>\n",
       "<style scoped>\n",
       "    .dataframe tbody tr th:only-of-type {\n",
       "        vertical-align: middle;\n",
       "    }\n",
       "\n",
       "    .dataframe tbody tr th {\n",
       "        vertical-align: top;\n",
       "    }\n",
       "\n",
       "    .dataframe thead th {\n",
       "        text-align: right;\n",
       "    }\n",
       "</style>\n",
       "<table border=\"1\" class=\"dataframe\">\n",
       "  <thead>\n",
       "    <tr style=\"text-align: right;\">\n",
       "      <th></th>\n",
       "      <th>Unnamed: 0</th>\n",
       "      <th>name</th>\n",
       "      <th>marks</th>\n",
       "      <th>City</th>\n",
       "    </tr>\n",
       "  </thead>\n",
       "  <tbody>\n",
       "    <tr>\n",
       "      <th>0</th>\n",
       "      <td>0</td>\n",
       "      <td>harry</td>\n",
       "      <td>30</td>\n",
       "      <td>Mumbai</td>\n",
       "    </tr>\n",
       "    <tr>\n",
       "      <th>1</th>\n",
       "      <td>1</td>\n",
       "      <td>rohan</td>\n",
       "      <td>23</td>\n",
       "      <td>hyderabad</td>\n",
       "    </tr>\n",
       "    <tr>\n",
       "      <th>2</th>\n",
       "      <td>2</td>\n",
       "      <td>skillf</td>\n",
       "      <td>19</td>\n",
       "      <td>scanf</td>\n",
       "    </tr>\n",
       "    <tr>\n",
       "      <th>3</th>\n",
       "      <td>3</td>\n",
       "      <td>Wasim</td>\n",
       "      <td>29</td>\n",
       "      <td>Pune</td>\n",
       "    </tr>\n",
       "  </tbody>\n",
       "</table>\n",
       "</div>"
      ],
      "text/plain": [
       "   Unnamed: 0    name  marks       City\n",
       "0           0   harry     30     Mumbai\n",
       "1           1   rohan     23  hyderabad\n",
       "2           2  skillf     19      scanf\n",
       "3           3   Wasim     29       Pune"
      ]
     },
     "execution_count": 11,
     "metadata": {},
     "output_type": "execute_result"
    }
   ],
   "source": [
    "marks"
   ]
  },
  {
   "cell_type": "code",
   "execution_count": 12,
   "id": "1b060e71-e0ae-420c-938c-b9ae5de10a89",
   "metadata": {},
   "outputs": [
    {
     "data": {
      "text/plain": [
       "np.int64(30)"
      ]
     },
     "execution_count": 12,
     "metadata": {},
     "output_type": "execute_result"
    }
   ],
   "source": [
    "marks[\"marks\"][0]"
   ]
  },
  {
   "cell_type": "code",
   "execution_count": 13,
   "id": "e5f158cc-49d3-4c66-a07e-9171ae14b6f9",
   "metadata": {},
   "outputs": [
    {
     "name": "stderr",
     "output_type": "stream",
     "text": [
      "C:\\Users\\Wasim Shaikh\\AppData\\Local\\Temp\\ipykernel_14912\\663171420.py:1: FutureWarning: ChainedAssignmentError: behaviour will change in pandas 3.0!\n",
      "You are setting values through chained assignment. Currently this works in certain cases, but when using Copy-on-Write (which will become the default behaviour in pandas 3.0) this will never work to update the original DataFrame or Series, because the intermediate object on which we are setting values will behave as a copy.\n",
      "A typical example is when you are setting values in a column of a DataFrame, like:\n",
      "\n",
      "df[\"col\"][row_indexer] = value\n",
      "\n",
      "Use `df.loc[row_indexer, \"col\"] = values` instead, to perform the assignment in a single step and ensure this keeps updating the original `df`.\n",
      "\n",
      "See the caveats in the documentation: https://pandas.pydata.org/pandas-docs/stable/user_guide/indexing.html#returning-a-view-versus-a-copy\n",
      "\n",
      "  marks[\"marks\"][0] = 30\n",
      "C:\\Users\\Wasim Shaikh\\AppData\\Local\\Temp\\ipykernel_14912\\663171420.py:1: SettingWithCopyWarning: \n",
      "A value is trying to be set on a copy of a slice from a DataFrame\n",
      "\n",
      "See the caveats in the documentation: https://pandas.pydata.org/pandas-docs/stable/user_guide/indexing.html#returning-a-view-versus-a-copy\n",
      "  marks[\"marks\"][0] = 30\n"
     ]
    }
   ],
   "source": [
    "marks[\"marks\"][0] = 30"
   ]
  },
  {
   "cell_type": "code",
   "execution_count": 14,
   "id": "c49ebcfc-f0e2-472c-9a6f-c5b550b914cf",
   "metadata": {},
   "outputs": [
    {
     "data": {
      "text/plain": [
       "np.int64(30)"
      ]
     },
     "execution_count": 14,
     "metadata": {},
     "output_type": "execute_result"
    }
   ],
   "source": [
    "marks[\"marks\"][0]"
   ]
  },
  {
   "cell_type": "code",
   "execution_count": 15,
   "id": "ad7fb31f-33e9-48d5-81a6-f81e4ce9e57f",
   "metadata": {},
   "outputs": [],
   "source": [
    "marks.to_csv(\"marks.csv\")"
   ]
  },
  {
   "cell_type": "code",
   "execution_count": 16,
   "id": "71366d59-a564-4366-b176-ce0993820e81",
   "metadata": {},
   "outputs": [],
   "source": [
    "marks.index = [1, 2, 3, 4]"
   ]
  },
  {
   "cell_type": "code",
   "execution_count": 17,
   "id": "9b837eaa-4e7c-407b-ae2c-3a2c0e2b8d2b",
   "metadata": {},
   "outputs": [
    {
     "data": {
      "text/html": [
       "<div>\n",
       "<style scoped>\n",
       "    .dataframe tbody tr th:only-of-type {\n",
       "        vertical-align: middle;\n",
       "    }\n",
       "\n",
       "    .dataframe tbody tr th {\n",
       "        vertical-align: top;\n",
       "    }\n",
       "\n",
       "    .dataframe thead th {\n",
       "        text-align: right;\n",
       "    }\n",
       "</style>\n",
       "<table border=\"1\" class=\"dataframe\">\n",
       "  <thead>\n",
       "    <tr style=\"text-align: right;\">\n",
       "      <th></th>\n",
       "      <th>Unnamed: 0</th>\n",
       "      <th>name</th>\n",
       "      <th>marks</th>\n",
       "      <th>City</th>\n",
       "    </tr>\n",
       "  </thead>\n",
       "  <tbody>\n",
       "    <tr>\n",
       "      <th>1</th>\n",
       "      <td>0</td>\n",
       "      <td>harry</td>\n",
       "      <td>30</td>\n",
       "      <td>Mumbai</td>\n",
       "    </tr>\n",
       "    <tr>\n",
       "      <th>2</th>\n",
       "      <td>1</td>\n",
       "      <td>rohan</td>\n",
       "      <td>23</td>\n",
       "      <td>hyderabad</td>\n",
       "    </tr>\n",
       "    <tr>\n",
       "      <th>3</th>\n",
       "      <td>2</td>\n",
       "      <td>skillf</td>\n",
       "      <td>19</td>\n",
       "      <td>scanf</td>\n",
       "    </tr>\n",
       "    <tr>\n",
       "      <th>4</th>\n",
       "      <td>3</td>\n",
       "      <td>Wasim</td>\n",
       "      <td>29</td>\n",
       "      <td>Pune</td>\n",
       "    </tr>\n",
       "  </tbody>\n",
       "</table>\n",
       "</div>"
      ],
      "text/plain": [
       "   Unnamed: 0    name  marks       City\n",
       "1           0   harry     30     Mumbai\n",
       "2           1   rohan     23  hyderabad\n",
       "3           2  skillf     19      scanf\n",
       "4           3   Wasim     29       Pune"
      ]
     },
     "execution_count": 17,
     "metadata": {},
     "output_type": "execute_result"
    }
   ],
   "source": [
    "marks"
   ]
  },
  {
   "cell_type": "code",
   "execution_count": 21,
   "id": "315e326d-2894-4446-8d28-8ec55d54e1b9",
   "metadata": {},
   "outputs": [],
   "source": [
    "ser = pd.Series(np.random.rand(30))"
   ]
  },
  {
   "cell_type": "code",
   "execution_count": 23,
   "id": "f85579ae-6f4c-412e-9994-339045e8a33d",
   "metadata": {},
   "outputs": [
    {
     "data": {
      "text/plain": [
       "pandas.core.series.Series"
      ]
     },
     "execution_count": 23,
     "metadata": {},
     "output_type": "execute_result"
    }
   ],
   "source": [
    "type(ser)"
   ]
  },
  {
   "cell_type": "code",
   "execution_count": 24,
   "id": "3f5f7a27-41fe-4b01-86d9-dd7847c41342",
   "metadata": {},
   "outputs": [
    {
     "data": {
      "text/plain": [
       "0     0.890453\n",
       "1     0.668212\n",
       "2     0.990735\n",
       "3     0.544008\n",
       "4     0.734878\n",
       "5     0.972450\n",
       "6     0.417142\n",
       "7     0.248408\n",
       "8     0.329900\n",
       "9     0.608752\n",
       "10    0.196191\n",
       "11    0.392140\n",
       "12    0.233313\n",
       "13    0.509437\n",
       "14    0.636988\n",
       "15    0.687372\n",
       "16    0.288548\n",
       "17    0.939230\n",
       "18    0.918494\n",
       "19    0.398950\n",
       "20    0.663676\n",
       "21    0.919666\n",
       "22    0.526125\n",
       "23    0.241301\n",
       "24    0.583414\n",
       "25    0.831448\n",
       "26    0.508350\n",
       "27    0.023194\n",
       "28    0.476637\n",
       "29    0.995100\n",
       "dtype: float64"
      ]
     },
     "execution_count": 24,
     "metadata": {},
     "output_type": "execute_result"
    }
   ],
   "source": [
    "ser"
   ]
  },
  {
   "cell_type": "code",
   "execution_count": 26,
   "id": "711935e8-c483-4f7c-aa24-2b575291ecb4",
   "metadata": {},
   "outputs": [],
   "source": [
    "newdf = pd.DataFrame(np.random.rand(333, 5), index=np.arange(333))"
   ]
  },
  {
   "cell_type": "code",
   "execution_count": 27,
   "id": "9e5651d1-be6b-4376-9d76-c059a60aca22",
   "metadata": {},
   "outputs": [
    {
     "data": {
      "text/html": [
       "<div>\n",
       "<style scoped>\n",
       "    .dataframe tbody tr th:only-of-type {\n",
       "        vertical-align: middle;\n",
       "    }\n",
       "\n",
       "    .dataframe tbody tr th {\n",
       "        vertical-align: top;\n",
       "    }\n",
       "\n",
       "    .dataframe thead th {\n",
       "        text-align: right;\n",
       "    }\n",
       "</style>\n",
       "<table border=\"1\" class=\"dataframe\">\n",
       "  <thead>\n",
       "    <tr style=\"text-align: right;\">\n",
       "      <th></th>\n",
       "      <th>0</th>\n",
       "      <th>1</th>\n",
       "      <th>2</th>\n",
       "      <th>3</th>\n",
       "      <th>4</th>\n",
       "    </tr>\n",
       "  </thead>\n",
       "  <tbody>\n",
       "    <tr>\n",
       "      <th>0</th>\n",
       "      <td>0.934235</td>\n",
       "      <td>0.876960</td>\n",
       "      <td>0.421355</td>\n",
       "      <td>0.612144</td>\n",
       "      <td>0.987124</td>\n",
       "    </tr>\n",
       "    <tr>\n",
       "      <th>1</th>\n",
       "      <td>0.841003</td>\n",
       "      <td>0.612524</td>\n",
       "      <td>0.605219</td>\n",
       "      <td>0.080467</td>\n",
       "      <td>0.032492</td>\n",
       "    </tr>\n",
       "    <tr>\n",
       "      <th>2</th>\n",
       "      <td>0.912482</td>\n",
       "      <td>0.996750</td>\n",
       "      <td>0.091752</td>\n",
       "      <td>0.557149</td>\n",
       "      <td>0.225137</td>\n",
       "    </tr>\n",
       "    <tr>\n",
       "      <th>3</th>\n",
       "      <td>0.880328</td>\n",
       "      <td>0.605931</td>\n",
       "      <td>0.313092</td>\n",
       "      <td>0.092681</td>\n",
       "      <td>0.070025</td>\n",
       "    </tr>\n",
       "    <tr>\n",
       "      <th>4</th>\n",
       "      <td>0.404324</td>\n",
       "      <td>0.378573</td>\n",
       "      <td>0.574015</td>\n",
       "      <td>0.569214</td>\n",
       "      <td>0.400450</td>\n",
       "    </tr>\n",
       "    <tr>\n",
       "      <th>...</th>\n",
       "      <td>...</td>\n",
       "      <td>...</td>\n",
       "      <td>...</td>\n",
       "      <td>...</td>\n",
       "      <td>...</td>\n",
       "    </tr>\n",
       "    <tr>\n",
       "      <th>328</th>\n",
       "      <td>0.590880</td>\n",
       "      <td>0.818281</td>\n",
       "      <td>0.780489</td>\n",
       "      <td>0.023545</td>\n",
       "      <td>0.481152</td>\n",
       "    </tr>\n",
       "    <tr>\n",
       "      <th>329</th>\n",
       "      <td>0.194309</td>\n",
       "      <td>0.836805</td>\n",
       "      <td>0.940476</td>\n",
       "      <td>0.587890</td>\n",
       "      <td>0.622143</td>\n",
       "    </tr>\n",
       "    <tr>\n",
       "      <th>330</th>\n",
       "      <td>0.810662</td>\n",
       "      <td>0.671575</td>\n",
       "      <td>0.711622</td>\n",
       "      <td>0.906735</td>\n",
       "      <td>0.531268</td>\n",
       "    </tr>\n",
       "    <tr>\n",
       "      <th>331</th>\n",
       "      <td>0.285260</td>\n",
       "      <td>0.893430</td>\n",
       "      <td>0.340081</td>\n",
       "      <td>0.654289</td>\n",
       "      <td>0.960814</td>\n",
       "    </tr>\n",
       "    <tr>\n",
       "      <th>332</th>\n",
       "      <td>0.736665</td>\n",
       "      <td>0.648636</td>\n",
       "      <td>0.624264</td>\n",
       "      <td>0.275613</td>\n",
       "      <td>0.501901</td>\n",
       "    </tr>\n",
       "  </tbody>\n",
       "</table>\n",
       "<p>333 rows × 5 columns</p>\n",
       "</div>"
      ],
      "text/plain": [
       "            0         1         2         3         4\n",
       "0    0.934235  0.876960  0.421355  0.612144  0.987124\n",
       "1    0.841003  0.612524  0.605219  0.080467  0.032492\n",
       "2    0.912482  0.996750  0.091752  0.557149  0.225137\n",
       "3    0.880328  0.605931  0.313092  0.092681  0.070025\n",
       "4    0.404324  0.378573  0.574015  0.569214  0.400450\n",
       "..        ...       ...       ...       ...       ...\n",
       "328  0.590880  0.818281  0.780489  0.023545  0.481152\n",
       "329  0.194309  0.836805  0.940476  0.587890  0.622143\n",
       "330  0.810662  0.671575  0.711622  0.906735  0.531268\n",
       "331  0.285260  0.893430  0.340081  0.654289  0.960814\n",
       "332  0.736665  0.648636  0.624264  0.275613  0.501901\n",
       "\n",
       "[333 rows x 5 columns]"
      ]
     },
     "execution_count": 27,
     "metadata": {},
     "output_type": "execute_result"
    }
   ],
   "source": [
    "newdf"
   ]
  },
  {
   "cell_type": "code",
   "execution_count": null,
   "id": "d3c15e69-4242-4fab-b5d5-113ddace2c99",
   "metadata": {},
   "outputs": [],
   "source": []
  }
 ],
 "metadata": {
  "kernelspec": {
   "display_name": "Python 3 (ipykernel)",
   "language": "python",
   "name": "python3"
  },
  "language_info": {
   "codemirror_mode": {
    "name": "ipython",
    "version": 3
   },
   "file_extension": ".py",
   "mimetype": "text/x-python",
   "name": "python",
   "nbconvert_exporter": "python",
   "pygments_lexer": "ipython3",
   "version": "3.13.5"
  }
 },
 "nbformat": 4,
 "nbformat_minor": 5
}
